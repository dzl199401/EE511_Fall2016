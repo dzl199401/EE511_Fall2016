{
 "cells": [
  {
   "cell_type": "markdown",
   "metadata": {},
   "source": [
    "## Problem 2 [Variance Reduction Methods for Monte Carlo]\n",
    "Use a total sample budget of $n=1000$ to obtain Monte Carlo estimates and sample MC estimate variances for the definite integrals in 2 dimensions $(x_1, x_2)$:  \n",
    "$$\n",
    "(a)\\ exp(\\sum _{i=1} ^2 5| x_i - 0.5|)\\ \\ \\ for\\ x_i\\ in\\ [0,1] \\\\ \n",
    "(b)\\ cos(\\pi + \\sum _{i=1} ^2 5x_i)\\ \\ \\ for\\ x_i\\ in\\ [-1,1] \\\\\n",
    "(c)\\ |4x-2| \\times |4y-2|\\ \\ \\ for \\ x,y \\ in \\ [0,1]\n",
    "$$\n",
    "Implement stratification and importance sampling (separately) in the Monte Carlo estimation procedures using the same sample budget $n=1000$. Compare the 3 different Monte Carlo integral estimates and their sample variances. Discuss the quality of the Monte Carlo estimates from each method."
   ]
  },
  {
   "cell_type": "code",
   "execution_count": 1,
   "metadata": {
    "collapsed": true
   },
   "outputs": [],
   "source": [
    "%matplotlib notebook\n",
    "import numpy as np\n",
    "import matplotlib.pyplot as plt\n",
    "SAMPLE_BUDGET = 1000\n",
    "SAMPLE_TIME = 100"
   ]
  },
  {
   "cell_type": "code",
   "execution_count": 2,
   "metadata": {
    "collapsed": false
   },
   "outputs": [],
   "source": [
    "def rv_gen(my_pdf,maxvalue):\n",
    "    rv_list = []\n",
    "    i = 0\n",
    "    while i < SAMPLE_BUDGET:\n",
    "        rp = np.array([np.random.rand(),np.random.rand()]).T\n",
    "        if my_pdf(rp)/2 > np.random.rand():\n",
    "            i = i + 1\n",
    "            rv_list.append(rp)\n",
    "    return rv_list"
   ]
  },
  {
   "cell_type": "code",
   "execution_count": 3,
   "metadata": {
    "collapsed": true
   },
   "outputs": [],
   "source": [
    "def my_func1(x):\n",
    "    if min(x) < 0 or max(x) > 1:\n",
    "        return 0\n",
    "    return np.exp(np.sum(5*np.abs(x - 0.5)))"
   ]
  },
  {
   "cell_type": "code",
   "execution_count": 4,
   "metadata": {
    "collapsed": false
   },
   "outputs": [
    {
     "name": "stdout",
     "output_type": "stream",
     "text": [
      "The stratification result for (a) is 20.02710338\n",
      "The sample variance is 0.503294639144\n"
     ]
    }
   ],
   "source": [
    "a_strat_list = []\n",
    "for i in range(SAMPLE_TIME):\n",
    "    x = np.random.rand(SAMPLE_BUDGET,2)\n",
    "    y = map(lambda t: my_func1(t),x)\n",
    "    a_strat_list.append(np.average(y))\n",
    "print 'The stratification result for (a) is', np.average(a_strat_list)\n",
    "print 'The sample variance is', np.var(a_strat_list)"
   ]
  },
  {
   "cell_type": "markdown",
   "metadata": {},
   "source": [
    "We choose  $f(x_1,x_2) = 2 \\left| x_1 - 0.5 \\right| +2\\left| x_2 - 0.5 \\right| $ for the importance sampling of (a)."
   ]
  },
  {
   "cell_type": "code",
   "execution_count": 5,
   "metadata": {
    "collapsed": true
   },
   "outputs": [],
   "source": [
    "def my_pdf1(x):\n",
    "    if min(x) < 0 or max(x) > 1:\n",
    "        return 0\n",
    "    return np.sum(np.abs(x-0.5))*2"
   ]
  },
  {
   "cell_type": "code",
   "execution_count": 6,
   "metadata": {
    "collapsed": false,
    "scrolled": false
   },
   "outputs": [
    {
     "name": "stdout",
     "output_type": "stream",
     "text": [
      "The importance sampling result for (a) is 20.0375610739\n",
      "The sample variance is 0.174852739554\n"
     ]
    }
   ],
   "source": [
    "a_imp_list=[]\n",
    "for i in range(SAMPLE_TIME):\n",
    "    x = np.array(rv_gen(my_pdf1,2))\n",
    "    y = map(lambda t: my_func1(t)/my_pdf1(t),x)\n",
    "    a_imp_list.append(np.average(y))\n",
    "print 'The importance sampling result for (a) is', np.average(a_imp_list)\n",
    "print 'The sample variance is', np.var(a_imp_list)"
   ]
  },
  {
   "cell_type": "code",
   "execution_count": 7,
   "metadata": {
    "collapsed": true
   },
   "outputs": [],
   "source": [
    "def my_func2(x):\n",
    "    if min(x) < -1 or max(x) > 1:\n",
    "        return 0\n",
    "    return np.cos(np.pi+5*np.sum(x))"
   ]
  },
  {
   "cell_type": "code",
   "execution_count": 8,
   "metadata": {
    "collapsed": false
   },
   "outputs": [
    {
     "name": "stdout",
     "output_type": "stream",
     "text": [
      "The stratification result for (b) is -0.0365110301533\n",
      "The sample variance is 0.000596480410898\n"
     ]
    }
   ],
   "source": [
    "b_strat_list = []\n",
    "for i in range(SAMPLE_TIME):\n",
    "    x = np.random.rand(SAMPLE_BUDGET,2)-0.5\n",
    "    x = x*2\n",
    "    y = map(lambda t: my_func2(t),x)\n",
    "    b_strat_list.append(np.average(y)) \n",
    "print 'The stratification result for (b) is', np.average(b_strat_list)\n",
    "print 'The sample variance is', np.var(b_strat_list)"
   ]
  },
  {
   "cell_type": "markdown",
   "metadata": {},
   "source": [
    "We choose $f(x_1,x_2)=\\frac{1+0.5cos(10x_1)}{2+\\frac{sin(\\pi+10)-sin(\\pi - 10)}{20}}$ for the importance sampling."
   ]
  },
  {
   "cell_type": "code",
   "execution_count": 9,
   "metadata": {
    "collapsed": false
   },
   "outputs": [],
   "source": [
    "def my_pdf2(x):\n",
    "    if min(x) < -1 or max(x) > 1:\n",
    "        return 0\n",
    "    return (1+0.5*np.cos(np.pi+x[0]))/(2+1/20*(np.sin(np.pi+10)-np.sin(np.pi-10)))"
   ]
  },
  {
   "cell_type": "code",
   "execution_count": 10,
   "metadata": {
    "collapsed": false
   },
   "outputs": [
    {
     "name": "stdout",
     "output_type": "stream",
     "text": [
      "The importance sampling result for (b) is -0.0687275170642\n",
      "The sample variance is 0.00596109109111\n"
     ]
    }
   ],
   "source": [
    "b_imp_list=[]\n",
    "for i in range(SAMPLE_TIME):\n",
    "    x = np.array(rv_gen(my_pdf2,1.5/(2+1/20*(np.sin(np.pi+10)-np.sin(np.pi-10)))))\n",
    "    y = map(lambda t: my_func2(t)/my_pdf2(t), x)\n",
    "    b_imp_list.append(np.average(y))\n",
    "print 'The importance sampling result for (b) is', np.average(b_imp_list)\n",
    "print 'The sample variance is', np.var(b_imp_list)"
   ]
  },
  {
   "cell_type": "code",
   "execution_count": 11,
   "metadata": {
    "collapsed": true
   },
   "outputs": [],
   "source": [
    "def my_func3(x):\n",
    "    if min(x) < 0 or max(x) > 1:\n",
    "        return 0\n",
    "    return np.abs(4*x[0] - 2) * np.abs(4*x[1] - 2)"
   ]
  },
  {
   "cell_type": "code",
   "execution_count": 12,
   "metadata": {
    "collapsed": false
   },
   "outputs": [
    {
     "name": "stdout",
     "output_type": "stream",
     "text": [
      "The stratification result for (c) is 1.00010701419\n",
      "The sample variance is 0.000783141416052\n"
     ]
    }
   ],
   "source": [
    "c_strat_list = []\n",
    "for i in range(SAMPLE_TIME):\n",
    "    x = np.random.rand(SAMPLE_BUDGET,2)\n",
    "    y = map(lambda t: my_func3(t),x)\n",
    "    c_strat_list.append(np.average(y)) \n",
    "print 'The stratification result for (c) is', np.average(c_strat_list)\n",
    "print 'The sample variance is', np.var(c_strat_list)"
   ]
  },
  {
   "cell_type": "markdown",
   "metadata": {},
   "source": [
    "We choose $f(x_1,x_2) = 4\\left| x_1-0.5 \\right| $ for the importance sampling."
   ]
  },
  {
   "cell_type": "code",
   "execution_count": 13,
   "metadata": {
    "collapsed": true
   },
   "outputs": [],
   "source": [
    "def my_pdf3(x):\n",
    "    if min(x) < 0 or max(x) > 1:\n",
    "        return 0\n",
    "    return 4 * np.abs(x[0]-0.5)"
   ]
  },
  {
   "cell_type": "code",
   "execution_count": 14,
   "metadata": {
    "collapsed": false
   },
   "outputs": [
    {
     "name": "stdout",
     "output_type": "stream",
     "text": [
      "The importance sampling result for (c) is 0.998955816599\n",
      "The sample variance is 0.000329806340685\n"
     ]
    }
   ],
   "source": [
    "c_imp_list=[]\n",
    "for i in range(SAMPLE_TIME):\n",
    "    x = np.array(rv_gen(my_pdf3,2))\n",
    "    y = map(lambda t: my_func3(t)/my_pdf3(t),x)\n",
    "    zx = np.logical_or(x < 0,x > 1)\n",
    "    zy = np.logical_or(zx[:,0],zx[:,1])\n",
    "    y = y*np.logical_not(zy)\n",
    "    c_imp_list.append(np.average(y))\n",
    "print 'The importance sampling result for (c) is', np.average(c_imp_list)\n",
    "print 'The sample variance is', np.var(c_imp_list)"
   ]
  },
  {
   "cell_type": "code",
   "execution_count": 15,
   "metadata": {
    "collapsed": false
   },
   "outputs": [
    {
     "name": "stdout",
     "output_type": "stream",
     "text": [
      "(a) stratification mean: 20.02710338 variance: 0.503294639144\n",
      "(a) importance mean: 20.0375610739 variance: 0.174852739554\n",
      "(b) stratification mean: -0.0365110301533 variance: 0.000596480410898\n",
      "(b) importance mean: -0.0687275170642 variance: 0.00596109109111\n",
      "(c) stratification mean: 1.00010701419 variance: 0.000783141416052\n",
      "(c) importance mean: 0.998955816599 variance: 0.000329806340685\n"
     ]
    }
   ],
   "source": [
    "print '(a) stratification mean:',np.average(a_strat_list),'variance:', np.var(a_strat_list)\n",
    "print '(a) importance mean:',np.average(a_imp_list),'variance:', np.var(a_imp_list)\n",
    "print '(b) stratification mean:',np.average(b_strat_list),'variance:', np.var(b_strat_list)\n",
    "print '(b) importance mean:',np.average(b_imp_list),'variance:', np.var(b_imp_list)\n",
    "print '(c) stratification mean:',np.average(c_strat_list),'variance:', np.var(c_strat_list)\n",
    "print '(c) importance mean:',np.average(c_imp_list),'variance:', np.var(c_imp_list)"
   ]
  },
  {
   "cell_type": "markdown",
   "metadata": {},
   "source": [
    "The quality of importance sampling is better than the stratification sampling when we choose the right pdf function that close to $\\left| f(x) \\right|$. For (a),(c), the functions vary a lot in its own region, and it is easy to find a computation-friendly pdf for importance simpling. For (b), the function varies periodly in small value. In this case, the importance simpling may not as good as stratification. Because it is hard to find an easy pdf to represent the function."
   ]
  }
 ],
 "metadata": {
  "anaconda-cloud": {},
  "kernelspec": {
   "display_name": "Python [Root]",
   "language": "python",
   "name": "Python [Root]"
  },
  "language_info": {
   "codemirror_mode": {
    "name": "ipython",
    "version": 2
   },
   "file_extension": ".py",
   "mimetype": "text/x-python",
   "name": "python",
   "nbconvert_exporter": "python",
   "pygments_lexer": "ipython2",
   "version": "2.7.12"
  }
 },
 "nbformat": 4,
 "nbformat_minor": 0
}
