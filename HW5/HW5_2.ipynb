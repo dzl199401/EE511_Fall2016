{
 "cells": [
  {
   "cell_type": "markdown",
   "metadata": {},
   "source": [
    "## Problem 2 [Variance Reduction Methods for Monte Carlo]\n",
    "Use a total sample budget of $n=1000$ to obtain Monte Carlo estimates and sample MC estimate variances for the definite integrals in 2 dimensions $(x_1, x_2)$:  \n",
    "$$\n",
    "(a)\\ exp(\\sum _{i=1} ^2 5| x_i - 0.5|)\\ \\ \\ for\\ x_i\\ in\\ [0,1] \\\\ \n",
    "(b)\\ cos(\\pi + \\sum _{i=1} ^2 5x_i)\\ \\ \\ for\\ x_i\\ in\\ [-1,1] \\\\\n",
    "(c)\\ |4x-2| \\times |4y-2|\\ \\ \\ for \\ x,y \\ in \\ [0,1]\n",
    "$$\n",
    "Implement stratification and importance sampling (separately) in the Monte Carlo estimation procedures using the same sample budget $n=1000$. Compare the 3 different Monte Carlo integral estimates and their sample variances. Discuss the quality of the Monte Carlo estimates from each method."
   ]
  },
  {
   "cell_type": "code",
   "execution_count": 1,
   "metadata": {
    "collapsed": true
   },
   "outputs": [],
   "source": [
    "%matplotlib notebook\n",
    "import numpy as np\n",
    "import matplotlib.pyplot as plt\n",
    "SAMPLE_BUDGET = 1000\n",
    "SAMPLE_TIME = 100"
   ]
  },
  {
   "cell_type": "code",
   "execution_count": 2,
   "metadata": {
    "collapsed": false
   },
   "outputs": [
    {
     "name": "stdout",
     "output_type": "stream",
     "text": [
      "The stratification result for (a) is 19.905704552\n",
      "The sample variance is 0.424122810725\n"
     ]
    }
   ],
   "source": [
    "a_strat_list = []\n",
    "for i in range(SAMPLE_TIME):\n",
    "    x = np.random.rand(SAMPLE_BUDGET,2)\n",
    "    y = map(lambda t: np.exp(5*abs(t[0]-0.5)+5*abs(t[1]-0.5)),x)\n",
    "    a_strat_list.append(np.average(y))\n",
    "print 'The stratification result for (a) is', np.average(a_strat_list)\n",
    "print 'The sample variance is', np.var(a_strat_list)"
   ]
  },
  {
   "cell_type": "markdown",
   "metadata": {},
   "source": [
    "We choose $x_1,x_2 \\sim N(0.5,1)$ for the importance sampling."
   ]
  },
  {
   "cell_type": "code",
   "execution_count": 3,
   "metadata": {
    "collapsed": false,
    "scrolled": false
   },
   "outputs": [
    {
     "name": "stdout",
     "output_type": "stream",
     "text": [
      "The importance sampling result for (a) is 19.9910602452\n",
      "The sample variance is 5.14383641311\n"
     ]
    }
   ],
   "source": [
    "a_imp_list=[]\n",
    "for i in range(SAMPLE_TIME):\n",
    "    x = np.array([np.random.normal(0.5,1,SAMPLE_BUDGET),np.random.normal(0.5,1,SAMPLE_BUDGET)]).T\n",
    "    y = map(lambda t: 2*np.pi*np.exp(5*abs(t[0]-0.5)+5*abs(t[1]-0.5)+0.5*(t[0]-0.5)*(t[0]-0.5)+0.5*(t[1]-0.5)*(t[1]-0.5)),x)\n",
    "    zx = np.logical_or(x < 0,x > 1)\n",
    "    zy = np.logical_or(zx[:,0],zx[:,1])\n",
    "    y = y*np.logical_not(zy)\n",
    "    a_imp_list.append(np.average(y))\n",
    "print 'The importance sampling result for (a) is', np.average(a_imp_list)\n",
    "print 'The sample variance is', np.var(a_imp_list)"
   ]
  },
  {
   "cell_type": "code",
   "execution_count": 4,
   "metadata": {
    "collapsed": false
   },
   "outputs": [
    {
     "name": "stdout",
     "output_type": "stream",
     "text": [
      "The stratification result for (b) is -0.0346979413211\n",
      "The sample variance is 0.000437132671854\n"
     ]
    }
   ],
   "source": [
    "b_strat_list = []\n",
    "for i in range(SAMPLE_TIME):\n",
    "    x = np.random.rand(SAMPLE_BUDGET,2)-0.5\n",
    "    x = x*2\n",
    "    y = map(lambda t: np.cos(np.pi+5*t[0]+5*t[1]),x)\n",
    "    b_strat_list.append(np.average(y)) \n",
    "print 'The stratification result for (b) is', np.average(b_strat_list)\n",
    "print 'The sample variance is', np.var(b_strat_list)"
   ]
  },
  {
   "cell_type": "markdown",
   "metadata": {},
   "source": [
    "We choose $x_1,x_2 \\sim N(0,1)$ for the importance sampling."
   ]
  },
  {
   "cell_type": "code",
   "execution_count": 5,
   "metadata": {
    "collapsed": false
   },
   "outputs": [
    {
     "name": "stdout",
     "output_type": "stream",
     "text": [
      "The importance sampling result for (b) is -0.130020457678\n",
      "The sample variance is 0.0148940834715\n"
     ]
    }
   ],
   "source": [
    "b_imp_list=[]\n",
    "for i in range(SAMPLE_TIME):\n",
    "    x = np.array([np.random.normal(0,1,SAMPLE_BUDGET),np.random.normal(0,1,SAMPLE_BUDGET)]).T\n",
    "    y = map(lambda t: 2*np.pi*np.cos(np.pi+5*t[0]+5*t[1])*np.exp(0.5*t[0]*t[0]+0.5*t[1]*t[1]),x)\n",
    "    zx = abs(x) > 1\n",
    "    zy = np.logical_or(zx[:,0],zx[:,1])\n",
    "    y = y*np.logical_not(zy)\n",
    "    b_imp_list.append(np.average(y))\n",
    "print 'The importance sampling result for (b) is', np.average(b_imp_list)\n",
    "print 'The sample variance is', np.var(b_imp_list)"
   ]
  },
  {
   "cell_type": "code",
   "execution_count": 6,
   "metadata": {
    "collapsed": false
   },
   "outputs": [
    {
     "name": "stdout",
     "output_type": "stream",
     "text": [
      "The stratification result for (c) is 0.996603648884\n",
      "The sample variance is 0.000541263182406\n"
     ]
    }
   ],
   "source": [
    "c_strat_list = []\n",
    "for i in range(SAMPLE_TIME):\n",
    "    x = np.random.rand(SAMPLE_BUDGET,2)\n",
    "    y = map(lambda t: abs(4*t[0]-2)*abs(4*t[1]-2),x)\n",
    "    c_strat_list.append(np.average(y)) \n",
    "print 'The stratification result for (c) is', np.average(c_strat_list)\n",
    "print 'The sample variance is', np.var(c_strat_list)"
   ]
  },
  {
   "cell_type": "markdown",
   "metadata": {},
   "source": [
    "We choose $x_1,x_2 \\sim N(0.5,1)$ for the importance sampling."
   ]
  },
  {
   "cell_type": "code",
   "execution_count": 7,
   "metadata": {
    "collapsed": false
   },
   "outputs": [
    {
     "name": "stdout",
     "output_type": "stream",
     "text": [
      "The importance sampling result for (c) is 0.969559449079\n",
      "The sample variance is 0.0116491071773\n"
     ]
    }
   ],
   "source": [
    "c_imp_list=[]\n",
    "for i in range(SAMPLE_TIME):\n",
    "    x = np.array([np.random.normal(0.5,1,SAMPLE_BUDGET),np.random.normal(0.5,1,SAMPLE_BUDGET)]).T\n",
    "    y = map(lambda t: 2*np.pi*abs(4*t[0]-2)*abs(4*t[1]-2)*np.exp(0.5*(t[0]-0.5)**2+0.5*(t[1]-0.5)**2),x)\n",
    "    zx = np.logical_or(x < 0,x > 1)\n",
    "    zy = np.logical_or(zx[:,0],zx[:,1])\n",
    "    y = y*np.logical_not(zy)\n",
    "    c_imp_list.append(np.average(y))\n",
    "print 'The importance sampling result for (c) is', np.average(c_imp_list)\n",
    "print 'The sample variance is', np.var(c_imp_list)"
   ]
  },
  {
   "cell_type": "code",
   "execution_count": 9,
   "metadata": {
    "collapsed": false
   },
   "outputs": [
    {
     "name": "stdout",
     "output_type": "stream",
     "text": [
      "(a) stratification mean: 19.905704552 variance: 0.424122810725\n",
      "(a) importance mean: 19.9910602452 variance: 5.14383641311\n",
      "(b) stratification mean: -0.0346979413211 variance: 0.000437132671854\n",
      "(b) importance mean: -0.130020457678 variance: 0.0148940834715\n",
      "(c) stratification mean: 0.996603648884 variance: 0.000541263182406\n",
      "(c) importance mean: 0.969559449079 variance: 0.0116491071773\n"
     ]
    }
   ],
   "source": [
    "print '(a) stratification mean:',np.average(a_strat_list),'variance:', np.var(a_strat_list)\n",
    "print '(a) importance mean:',np.average(a_imp_list),'variance:', np.var(a_imp_list)\n",
    "print '(b) stratification mean:',np.average(b_strat_list),'variance:', np.var(b_strat_list)\n",
    "print '(b) importance mean:',np.average(b_imp_list),'variance:', np.var(b_imp_list)\n",
    "print '(c) stratification mean:',np.average(c_strat_list),'variance:', np.var(c_strat_list)\n",
    "print '(c) importance mean:',np.average(c_imp_list),'variance:', np.var(c_imp_list)"
   ]
  },
  {
   "cell_type": "markdown",
   "metadata": {},
   "source": [
    "The quality of importance sampling is bad than the stratification sampling."
   ]
  }
 ],
 "metadata": {
  "anaconda-cloud": {},
  "kernelspec": {
   "display_name": "Python [Root]",
   "language": "python",
   "name": "Python [Root]"
  },
  "language_info": {
   "codemirror_mode": {
    "name": "ipython",
    "version": 2
   },
   "file_extension": ".py",
   "mimetype": "text/x-python",
   "name": "python",
   "nbconvert_exporter": "python",
   "pygments_lexer": "ipython2",
   "version": "2.7.12"
  }
 },
 "nbformat": 4,
 "nbformat_minor": 0
}
