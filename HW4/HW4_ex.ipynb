{
 "cells": [
  {
   "cell_type": "markdown",
   "metadata": {},
   "source": [
    "## Extra Credit: [Noise in GMM-EM]\n",
    "Modify your GMM-EM routine by sampling and **injecting Gaussian noise** into the old faithful data at each iteration. **Scale the noise** to a fraction of the standard deviation in each dimension. And let the **noise standard deviation decay** at each iteration (e.g. inversely proportional to the square of the iteration counter).\n",
    "Compare **the average convergence time** of the GMM-EM with and without noise. **Plot the average convergence time** for different initial noise standard deviations.\n"
   ]
  },
  {
   "cell_type": "markdown",
   "metadata": {},
   "source": [
    "> - 收敛速度并没有加快\n",
    "- 如何推到迭代公式\n",
    "- 如何inject noise，限制条件怎么使用\n",
    "   "
   ]
  },
  {
   "cell_type": "markdown",
   "metadata": {},
   "source": [
    " $$\n",
    " z_i = y_i + n_i\\\\\n",
    " n_i[n_i - 2(\\mu _{j_i} - y_i)] \\leq 0\\\\\n",
    " \\alpha _j(t+1) = \\frac{1}{N}\\sum_{i=1}^{N}p_z(j|y_i,\\Theta (t))\\\\\n",
    " \\mu _j(t+1) = \\frac{\\sum_{i=1}^{N} p_z(j|y_i, \\Theta(t)) z_i}{\\sum _{i=1}^{N} p_z (j|y_i, \\Theta (t))}\\\\\n",
    " \\Sigma _j (t+1) = \\frac{\\sum _{i=1}^{N} p_z (j|y_i,\\Theta (t))(z_i - \\mu _j(t)) (z_i - \\mu _j (t))^T}{\\sum _{i=1}^{N} p_z (j|y_i, \\Theta (t))}\n",
    " $$"
   ]
  },
  {
   "cell_type": "code",
   "execution_count": 1,
   "metadata": {
    "collapsed": true
   },
   "outputs": [],
   "source": [
    "%matplotlib notebook\n",
    "import numpy as np\n",
    "import matplotlib.pyplot as plt\n",
    "from pandas import read_csv\n",
    "from scipy.stats import multivariate_normal\n",
    "from sklearn.cluster import KMeans"
   ]
  },
  {
   "cell_type": "code",
   "execution_count": 2,
   "metadata": {
    "collapsed": false
   },
   "outputs": [],
   "source": [
    "# import the data from data.txt.\n",
    "data = read_csv(\"data.txt\", delim_whitespace=True, skipinitialspace=True)\n",
    "xy = np.array([data['eruptions'],data['waiting']]).T"
   ]
  },
  {
   "cell_type": "code",
   "execution_count": 3,
   "metadata": {
    "collapsed": false
   },
   "outputs": [],
   "source": [
    "def noise_gen(var, n, mean1, mean2, xy):\n",
    "    #nx,ny = np.random.multivariate_normal((0,0), cov , n).T\n",
    "    nx = np.random.normal(0,var[0],n)\n",
    "    ny = np.random.normal(0,var[1],n)\n",
    "    is_ok_x_1 = nx*(nx-2*(mean1[0] - xy[:,0])) > 0\n",
    "    is_ok_y_1 = ny*(ny-2*(mean1[1] - xy[:,1])) > 0\n",
    "    is_ok_x_2 = nx*(nx-2*(mean2[0] - xy[:,0])) > 0\n",
    "    is_ok_y_2 = ny*(ny-2*(mean2[1] - xy[:,1])) > 0\n",
    "    is_ok_1 = np.logical_or(is_ok_x_1,is_ok_y_1)\n",
    "    is_ok_2 = np.logical_or(is_ok_x_2,is_ok_y_2)\n",
    "    is_ok = np.logical_or(is_ok_2,is_ok_2)\n",
    "    #nx_t,ny_t = np.random.multivariate_normal((0,0), cov , len(xy)).T\n",
    "    nx_t = np.random.normal(0,var[0],n)\n",
    "    ny_t = np.random.normal(0,var[1],n)\n",
    "    #print 'noise useless rate:',sum(is_ok)/float(n)\n",
    "    nx[is_ok] = 0\n",
    "    ny[is_ok] = 0\n",
    "    return nx,ny"
   ]
  },
  {
   "cell_type": "code",
   "execution_count": 4,
   "metadata": {
    "collapsed": true
   },
   "outputs": [],
   "source": [
    "model = KMeans(n_clusters=2)\n",
    "model.fit(xy)\n",
    "mean1_t = model.cluster_centers_[0]\n",
    "mean2_t = model.cluster_centers_[1]\n",
    "cov1_t = np.ma.cov(xy.T)\n",
    "#var_n = noise_level* cov1_t\n",
    "var_n = np.array([np.ma.cov(xy[:,0]),np.ma.cov(xy[:,1])])\n",
    "cov2_t = cov1_t\n",
    "p_t = np.random.rand()"
   ]
  },
  {
   "cell_type": "code",
   "execution_count": 13,
   "metadata": {
    "collapsed": false
   },
   "outputs": [],
   "source": [
    "def my_nem_2d2pgmm(xy,noise_level):\n",
    "    # Initialize the parameters.\n",
    "    model = KMeans(n_clusters=2)\n",
    "    model.fit(xy)\n",
    "    mean1_t = model.cluster_centers_[0]\n",
    "    mean2_t = model.cluster_centers_[1]\n",
    "    cov1_t = np.ma.cov(xy.T)\n",
    "    #var_n = noise_level* cov1_t\n",
    "    var_n = np.array([np.ma.cov(xy[:,0]),np.ma.cov(xy[:,1])])\n",
    "    cov2_t = cov1_t\n",
    "    p_t = np.random.rand()\n",
    "    # EM interation\n",
    "    MAXITERATION = 10000\n",
    "    tol = 0.001\n",
    "    theta = np.r_[p_t, mean1_t, mean2_t, cov1_t.reshape(-1),cov2_t.reshape(-1)]\n",
    "    iternum = 1\n",
    "    p_t_record = [p_t]\n",
    "    mean1_t_record = [mean1_t]\n",
    "    mean2_t_record = [mean2_t]\n",
    "    cov1_t_record = [cov1_t]\n",
    "    cov2_t_record = [cov2_t]\n",
    "    N = len(xy)\n",
    "    for i in range(MAXITERATION):\n",
    "            # N-Step:\n",
    "        nx,ny = noise_gen(var_n/((i+1)*(i+1)), len(xy), mean1_t , mean2_t, xy)\n",
    "        n = np.array([nx,ny]).T\n",
    "        z = xy + n\n",
    "            # E-Step:\n",
    "        w = np.array([p_t*multivariate_normal.pdf(xy, mean = mean1_t, cov = cov1_t),\n",
    "                    (1-p_t)*multivariate_normal.pdf(xy, mean = mean2_t, cov = cov2_t)])\n",
    "        w = w/sum(w,0)\n",
    "            # M-Step:\n",
    "        nml = sum(w.T)\n",
    "        p_t = nml[0]/N\n",
    "        mean1_t = np.r_[sum(w[0,:]*z[:,0]), sum(w[0,:]*z[:,1])]\n",
    "        mean1_t = mean1_t/nml[0]\n",
    "        mean2_t = np.r_[sum(w[1,:]*z[:,0]), sum(w[1,:]*z[:,1])]\n",
    "        mean2_t = mean2_t/nml[1]\n",
    "        c1 = np.array([w[0],w[0]]).T*(z-mean1_t)\n",
    "        c2 = np.array([w[1],w[1]]).T*(z-mean2_t)\n",
    "        cov1_t = np.dot(c1.T,z-mean1_t)/nml[0]\n",
    "        cov2_t = np.dot(c2.T,z-mean2_t)/nml[1]\n",
    "        theta_t = np.r_[p_t, mean1_t, mean2_t, cov1_t.reshape(-1),cov2_t.reshape(-1)]\n",
    "        #diff = sum(abs(theta_t - theta))\n",
    "        diff = np.linalg.norm(theta_t - theta,2)\n",
    "        theta = theta_t\n",
    "        p_t_record.append(p_t)\n",
    "        mean1_t_record.append(mean1_t)\n",
    "        mean2_t_record.append(mean2_t)\n",
    "        cov1_t_record.append(cov1_t)\n",
    "        cov2_t_record.append(cov2_t)\n",
    "        if i<10 or i%10 == 0:\n",
    "            print i, diff\n",
    "        if diff < tol:\n",
    "            iternum = i+1\n",
    "            break\n",
    "\n",
    "    return iternum, p_t, mean1_t, mean2_t, cov1_t, cov2_t"
   ]
  },
  {
   "cell_type": "code",
   "execution_count": 9,
   "metadata": {
    "collapsed": true
   },
   "outputs": [],
   "source": [
    "def my_em_2d2pgmm(xy):\n",
    "    # Initialize the parameters.\n",
    "    model = KMeans(n_clusters=2)\n",
    "    model.fit(xy)\n",
    "    mean1_t = model.cluster_centers_[0]\n",
    "    mean2_t = model.cluster_centers_[1]\n",
    "    cov1_t = np.ma.cov(xy.T)\n",
    "    cov2_t = cov1_t\n",
    "    p_t = np.random.rand()\n",
    "    # EM interation\n",
    "    MAXITERATION = 10000\n",
    "    tol = 0.001\n",
    "    theta = np.r_[p_t, mean1_t, mean2_t, cov1_t.reshape(-1),cov2_t.reshape(-1)]\n",
    "    iternum = 1\n",
    "    p_t_record = [p_t]\n",
    "    mean1_t_record = [mean1_t]\n",
    "    mean2_t_record = [mean2_t]\n",
    "    cov1_t_record = [cov1_t]\n",
    "    cov2_t_record = [cov2_t]\n",
    "    N = len(xy)\n",
    "    for i in range(MAXITERATION):\n",
    "            # E-Step:\n",
    "        w = np.array([p_t*multivariate_normal.pdf(xy, mean = mean1_t, cov = cov1_t),\n",
    "                    (1-p_t)*multivariate_normal.pdf(xy, mean = mean2_t, cov = cov2_t)])\n",
    "        w = w/sum(w,0)\n",
    "            # M-Step:\n",
    "        nml = sum(w.T)\n",
    "        p_t = nml[0]/N\n",
    "        mean1_t = np.r_[sum(w[0,:]*xy[:,0]), sum(w[0,:]*xy[:,1])]\n",
    "        mean1_t = mean1_t/nml[0]\n",
    "        mean2_t = np.r_[sum(w[1,:]*xy[:,0]), sum(w[1,:]*xy[:,1])]\n",
    "        mean2_t = mean2_t/nml[1]\n",
    "        c1 = np.array([w[0],w[0]]).T*(xy-mean1_t)\n",
    "        c2 = np.array([w[1],w[1]]).T*(xy-mean2_t)\n",
    "        cov1_t = np.dot(c1.T,xy-mean1_t)/nml[0]\n",
    "        cov2_t = np.dot(c2.T,xy-mean2_t)/nml[1]\n",
    "        theta_t = np.r_[p_t, mean1_t, mean2_t, cov1_t.reshape(-1),cov2_t.reshape(-1)]\n",
    "        #diff = sum(abs(theta_t - theta))\n",
    "        diff = np.linalg.norm(theta_t - theta,2)\n",
    "        theta = theta_t\n",
    "        p_t_record.append(p_t)\n",
    "        mean1_t_record.append(mean1_t)\n",
    "        mean2_t_record.append(mean2_t)\n",
    "        cov1_t_record.append(cov1_t)\n",
    "        cov2_t_record.append(cov2_t)\n",
    "        print i, diff\n",
    "        if diff < tol:\n",
    "            iternum = i+1\n",
    "            break\n",
    "\n",
    "    return iternum, p_t, mean1_t, mean2_t, cov1_t, cov2_t"
   ]
  },
  {
   "cell_type": "code",
   "execution_count": 14,
   "metadata": {
    "collapsed": false,
    "scrolled": false
   },
   "outputs": [
    {
     "name": "stdout",
     "output_type": "stream",
     "text": [
      "0 85.5856509841\n",
      "1 29.6614932806\n",
      "2 39.8462674137\n",
      "3 38.5023890349\n",
      "4 29.5771876863\n",
      "5 1.84867787194\n",
      "6 4.28820902628\n",
      "7 4.81477116597\n",
      "8 2.66050176496\n",
      "9 3.72201559247\n",
      "10 3.53990955461\n",
      "20 0.175461338119\n",
      "30 0.204511486093\n",
      "40 0.107609023683\n",
      "50 0.0492580397936\n",
      "60 0.0341579148389\n",
      "70 0.01108573028\n",
      "80 0.00275627405981\n",
      "90 0.0244883664729\n",
      "100 0.0101651323272\n",
      "110 0.0127296469141\n",
      "120 0.0152242301172\n",
      "130 0.00557488748446\n",
      "140 0.00240058878703\n",
      "150 0.00514983444262\n",
      "160 0.00636257964179\n",
      "170 0.0052800924231\n",
      "180 0.00416109774502\n",
      "190 0.00591390301922\n",
      "200 0.00353964472114\n",
      "210\n",
      "[  2.03639492  54.47944415]\n",
      "[  4.2896624   79.96812024]\n",
      "0 120.758025518\n",
      "1 54.2645481444\n",
      "2 36.6208683503\n",
      "3 3.3693924234\n",
      "4 0.372064554027\n",
      "5 0.0821598984835\n",
      "6 0.0197253319952\n",
      "7 0.00473814499294\n",
      "8 0.00113998907021\n",
      "9 0.000274422201209\n",
      "10\n",
      "[  2.03638896  54.47852144]\n",
      "[  4.28966242  79.96812057]\n"
     ]
    }
   ],
   "source": [
    "iternum, p_t, mean1_t, mean2_t, cov1_t, cov2_t = my_nem_2d2pgmm(xy,0.01)\n",
    "print iternum\n",
    "print mean1_t\n",
    "print mean2_t\n",
    "iternum, p_t, mean1_t, mean2_t, cov1_t, cov2_t = my_em_2d2pgmm(xy)\n",
    "print iternum\n",
    "print mean1_t\n",
    "print mean2_t"
   ]
  }
 ],
 "metadata": {
  "anaconda-cloud": {},
  "kernelspec": {
   "display_name": "Python [conda root]",
   "language": "python",
   "name": "conda-root-py"
  },
  "language_info": {
   "codemirror_mode": {
    "name": "ipython",
    "version": 2
   },
   "file_extension": ".py",
   "mimetype": "text/x-python",
   "name": "python",
   "nbconvert_exporter": "python",
   "pygments_lexer": "ipython2",
   "version": "2.7.12"
  }
 },
 "nbformat": 4,
 "nbformat_minor": 0
}
